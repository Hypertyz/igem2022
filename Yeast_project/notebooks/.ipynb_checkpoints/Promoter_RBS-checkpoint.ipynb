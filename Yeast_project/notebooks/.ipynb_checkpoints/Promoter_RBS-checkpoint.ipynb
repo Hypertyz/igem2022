{
 "cells": [
  {
   "cell_type": "code",
   "execution_count": 1,
   "id": "be448d79",
   "metadata": {},
   "outputs": [],
   "source": [
    "import pandas as pd\n",
    "import numpy as np"
   ]
  },
  {
   "cell_type": "code",
   "execution_count": 2,
   "id": "28b2a81c",
   "metadata": {},
   "outputs": [],
   "source": [
    "promos = pd.read_csv ('../R_outputs/promoters.csv', )"
   ]
  },
  {
   "cell_type": "code",
   "execution_count": 3,
   "id": "2beb74f5",
   "metadata": {},
   "outputs": [
    {
     "data": {
      "text/html": [
       "<div>\n",
       "<style scoped>\n",
       "    .dataframe tbody tr th:only-of-type {\n",
       "        vertical-align: middle;\n",
       "    }\n",
       "\n",
       "    .dataframe tbody tr th {\n",
       "        vertical-align: top;\n",
       "    }\n",
       "\n",
       "    .dataframe thead th {\n",
       "        text-align: right;\n",
       "    }\n",
       "</style>\n",
       "<table border=\"1\" class=\"dataframe\">\n",
       "  <thead>\n",
       "    <tr style=\"text-align: right;\">\n",
       "      <th></th>\n",
       "      <th>Sequence</th>\n",
       "    </tr>\n",
       "  </thead>\n",
       "  <tbody>\n",
       "    <tr>\n",
       "      <th>0</th>\n",
       "      <td>TAGTTTAGTTTTATTGTCGACTTTTAATTAT</td>\n",
       "    </tr>\n",
       "    <tr>\n",
       "      <th>1</th>\n",
       "      <td>ATCAAATCGAAATAACAGCTGAAAATTAATA</td>\n",
       "    </tr>\n",
       "    <tr>\n",
       "      <th>2</th>\n",
       "      <td>TCTTAGGTAACTGGTGACAAATCTATCTCTT</td>\n",
       "    </tr>\n",
       "    <tr>\n",
       "      <th>3</th>\n",
       "      <td>AGAATACAATAGCAACGCAAGATCAACACAA</td>\n",
       "    </tr>\n",
       "    <tr>\n",
       "      <th>4</th>\n",
       "      <td>AGTTTTGACTACCTCAGAGAAAAATTTTGAA</td>\n",
       "    </tr>\n",
       "    <tr>\n",
       "      <th>...</th>\n",
       "      <td>...</td>\n",
       "    </tr>\n",
       "    <tr>\n",
       "      <th>152</th>\n",
       "      <td>GTATACCTAATATTATAGCCTTTATCAACAA</td>\n",
       "    </tr>\n",
       "    <tr>\n",
       "      <th>153</th>\n",
       "      <td>TTGGTTTTGTAGAGTGGTTGACGAATAATTA</td>\n",
       "    </tr>\n",
       "    <tr>\n",
       "      <th>154</th>\n",
       "      <td>TCCTGCTAATTTCCCACTAAATCTTTCCCCA</td>\n",
       "    </tr>\n",
       "    <tr>\n",
       "      <th>155</th>\n",
       "      <td>GTATACCTAATATTATAGCCTTTATCAACAA</td>\n",
       "    </tr>\n",
       "    <tr>\n",
       "      <th>156</th>\n",
       "      <td>AAAAGAATAATCAAGTAAATAAATTATCGGA</td>\n",
       "    </tr>\n",
       "  </tbody>\n",
       "</table>\n",
       "<p>157 rows × 1 columns</p>\n",
       "</div>"
      ],
      "text/plain": [
       "                            Sequence\n",
       "0    TAGTTTAGTTTTATTGTCGACTTTTAATTAT\n",
       "1    ATCAAATCGAAATAACAGCTGAAAATTAATA\n",
       "2    TCTTAGGTAACTGGTGACAAATCTATCTCTT\n",
       "3    AGAATACAATAGCAACGCAAGATCAACACAA\n",
       "4    AGTTTTGACTACCTCAGAGAAAAATTTTGAA\n",
       "..                               ...\n",
       "152  GTATACCTAATATTATAGCCTTTATCAACAA\n",
       "153  TTGGTTTTGTAGAGTGGTTGACGAATAATTA\n",
       "154  TCCTGCTAATTTCCCACTAAATCTTTCCCCA\n",
       "155  GTATACCTAATATTATAGCCTTTATCAACAA\n",
       "156  AAAAGAATAATCAAGTAAATAAATTATCGGA\n",
       "\n",
       "[157 rows x 1 columns]"
      ]
     },
     "execution_count": 3,
     "metadata": {},
     "output_type": "execute_result"
    }
   ],
   "source": [
    "promos"
   ]
  },
  {
   "cell_type": "code",
   "execution_count": 4,
   "id": "1cf5f08e",
   "metadata": {},
   "outputs": [],
   "source": [
    "alphabet_file = \"./alphabet\"\n",
    "sparse_file = \"./sparse\""
   ]
  },
  {
   "cell_type": "code",
   "execution_count": 5,
   "id": "95d228f8",
   "metadata": {},
   "outputs": [],
   "source": [
    "# Change this to nucleotide sequences\n",
    "\n",
    "def encode(nucleotides, encoding_scheme, alphabet):\n",
    "\n",
    "    encoded_nucleotides = []\n",
    "\n",
    "    for nucleotide in nucleotides:\n",
    "\n",
    "        encoded_nucleotide = []\n",
    "\n",
    "        for nucleotide_letter in nucleotide:\n",
    "\n",
    "            for alphabet_letter in alphabet:\n",
    "\n",
    "                encoded_nucleotide.append(encoding_scheme[nucleotide_letter][alphabet_letter])\n",
    "\n",
    "        encoded_nucleotides.append(encoded_nucleotide)\n",
    "\n",
    "    return np.array(encoded_nucleotides)"
   ]
  },
  {
   "cell_type": "code",
   "execution_count": null,
   "id": "c8c984e4",
   "metadata": {},
   "outputs": [],
   "source": []
  },
  {
   "cell_type": "code",
   "execution_count": null,
   "id": "44825c48",
   "metadata": {},
   "outputs": [],
   "source": [
    "# PCA"
   ]
  }
 ],
 "metadata": {
  "kernelspec": {
   "display_name": "Python 3 (ipykernel)",
   "language": "python",
   "name": "python3"
  },
  "language_info": {
   "codemirror_mode": {
    "name": "ipython",
    "version": 3
   },
   "file_extension": ".py",
   "mimetype": "text/x-python",
   "name": "python",
   "nbconvert_exporter": "python",
   "pygments_lexer": "ipython3",
   "version": "3.8.13"
  }
 },
 "nbformat": 4,
 "nbformat_minor": 5
}
