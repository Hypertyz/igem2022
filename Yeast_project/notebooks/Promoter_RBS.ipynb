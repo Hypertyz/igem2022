{
 "cells": [
  {
   "cell_type": "code",
   "execution_count": 29,
   "id": "be448d79",
   "metadata": {},
   "outputs": [],
   "source": [
    "import pandas as pd\n",
    "import numpy as np\n",
    "import matplotlib.pyplot as plt \n",
    "import mglearn\n",
    "from sklearn.decomposition import PCA\n",
    "%matplotlib inline\n"
   ]
  },
  {
   "cell_type": "code",
   "execution_count": 30,
   "id": "da0fe73b",
   "metadata": {},
   "outputs": [],
   "source": [
    "class kmer_featurization:\n",
    "\n",
    "  def __init__(self, k):\n",
    "    \"\"\"\n",
    "    seqs: a list of DNA sequences\n",
    "    k: the \"k\" in k-mer\n",
    "    \"\"\"\n",
    "    self.k = k\n",
    "    self.letters = ['A', 'T', 'C', 'G']\n",
    "    self.multiplyBy = 4 ** np.arange(k-1, -1, -1) # the multiplying number for each digit position in the k-number system\n",
    "    self.n = 4**k # number of possible k-mers\n",
    "\n",
    "  def obtain_kmer_feature_for_a_list_of_sequences(self, seqs, write_number_of_occurrences=False):\n",
    "    \"\"\"\n",
    "    Given a list of m DNA sequences, return a 2-d array with shape (m, 4**k) for the 1-hot representation of the kmer features.\n",
    "\n",
    "    Args:\n",
    "      write_number_of_occurrences:\n",
    "        a boolean. If False, then in the 1-hot representation, the percentage of the occurrence of a kmer will be recorded; otherwise the number of occurrences will be recorded. Default False.    \n",
    "    \"\"\"\n",
    "    kmer_features = []\n",
    "    for seq in seqs:\n",
    "      this_kmer_feature = self.obtain_kmer_feature_for_one_sequence(seq.upper(), write_number_of_occurrences=write_number_of_occurrences)\n",
    "      kmer_features.append(this_kmer_feature)\n",
    "\n",
    "    kmer_features = np.array(kmer_features)\n",
    "\n",
    "    return kmer_features\n",
    "\n",
    "  def obtain_kmer_feature_for_one_sequence(self, seq, write_number_of_occurrences=False):\n",
    "    \"\"\"\n",
    "    Given a DNA sequence, return the 1-hot representation of its kmer feature.\n",
    "\n",
    "    Args:\n",
    "      seq: \n",
    "        a string, a DNA sequence\n",
    "      write_number_of_occurrences:\n",
    "        a boolean. If False, then in the 1-hot representation, the percentage of the occurrence of a kmer will be recorded; otherwise the number of occurrences will be recorded. Default False.\n",
    "    \"\"\"\n",
    "    number_of_kmers = len(seq) - self.k + 1\n",
    "\n",
    "    kmer_feature = np.zeros(self.n)\n",
    "\n",
    "    for i in range(number_of_kmers):\n",
    "      this_kmer = seq[i:(i+self.k)]\n",
    "      this_numbering = self.kmer_numbering_for_one_kmer(this_kmer)\n",
    "      kmer_feature[this_numbering] += 1\n",
    "\n",
    "    if not write_number_of_occurrences:\n",
    "      kmer_feature = kmer_feature / number_of_kmers\n",
    "\n",
    "    return kmer_feature\n",
    "\n",
    "  def kmer_numbering_for_one_kmer(self, kmer):\n",
    "    \"\"\"\n",
    "    Given a k-mer, return its numbering (the 0-based position in 1-hot representation)\n",
    "    \"\"\"\n",
    "    digits = []\n",
    "    for letter in kmer:\n",
    "      digits.append(self.letters.index(letter))\n",
    "\n",
    "    digits = np.array(digits)\n",
    "\n",
    "    numbering = (digits * self.multiplyBy).sum()\n",
    "\n",
    "    return numbering\n"
   ]
  },
  {
   "cell_type": "code",
   "execution_count": 31,
   "id": "c781f456",
   "metadata": {},
   "outputs": [],
   "source": [
    "nucleotides = np.loadtxt('../R_outputs/promoters.csv', dtype=str)"
   ]
  },
  {
   "cell_type": "code",
   "execution_count": 32,
   "id": "7b2c2ba7",
   "metadata": {},
   "outputs": [],
   "source": [
    "alphabet_file = \"./alphabet\"\n",
    "sparse_file = \"./sparse\"\n",
    "alphabet = np.loadtxt(alphabet_file, dtype=str)\n",
    "_sparse = np.loadtxt(sparse_file, dtype=float)\n",
    "sparse = {}\n",
    "\n",
    "for i, letter_1 in enumerate(alphabet):\n",
    "\n",
    "    sparse[letter_1] = {}\n",
    "\n",
    "    for j, letter_2 in enumerate(alphabet):\n",
    "\n",
    "        sparse[letter_1][letter_2] = _sparse[i, j]"
   ]
  },
  {
   "cell_type": "code",
   "execution_count": 33,
   "id": "95d228f8",
   "metadata": {},
   "outputs": [],
   "source": [
    "# Change this to nucleotide sequences\n",
    "\n",
    "def encode(nucleotides, encoding_scheme, alphabet):\n",
    "\n",
    "    encoded_nucleotides = []\n",
    "\n",
    "    for nucleotide in nucleotides:\n",
    "\n",
    "        encoded_nucleotide = []\n",
    "\n",
    "        for nucleotide_letter in nucleotide:\n",
    "\n",
    "            for alphabet_letter in alphabet:\n",
    "                \n",
    "                encoded_nucleotide.append(encoding_scheme[nucleotide_letter][alphabet_letter])\n",
    "\n",
    "        for i in range(1, 11):\n",
    "            k = i  \n",
    "            obj = kmer_featurization(k) \n",
    "            kmer_feature = obj.obtain_kmer_feature_for_one_sequence(nucleotide, write_number_of_occurrences=True)\n",
    "            encoded_nucleotide = list(kmer_feature) + encoded_nucleotide\n",
    "        \n",
    "        encoded_nucleotides.append(encoded_nucleotide)\n",
    "\n",
    "    return np.array(encoded_nucleotides)"
   ]
  },
  {
   "cell_type": "code",
   "execution_count": 34,
   "id": "3d78d0f9",
   "metadata": {},
   "outputs": [],
   "source": [
    "from itertools import repeat\n",
    "label=[]\n",
    "label.extend(repeat(0,77))\n",
    "label.append(1)\n",
    "label.append(2)\n",
    "label.append(3)\n",
    "label.append(4)"
   ]
  },
  {
   "cell_type": "code",
   "execution_count": 35,
   "id": "e9db9eb7",
   "metadata": {},
   "outputs": [],
   "source": [
    "random1 = \"AAAAAAAAAAAAAAAAAAAAAAAAAAAAAAA\"\n",
    "random2 = \"GGGGGGGGGGGGGGGGGGGGGGGGGGGGGGG\"\n",
    "random3 = \"CCCCCCCCCCCCCCCCCCCCCCCCCCCCCCC\"\n",
    "random4 = \"TTTTTTTTTTTTTTTTTTTTTTTTTTTTTTT\"\n",
    "nucleotides = np.append(nucleotides, random1)\n",
    "nucleotides = np.append(nucleotides, random2)\n",
    "nucleotides = np.append(nucleotides, random3)\n",
    "nucleotides = np.append(nucleotides, random4)"
   ]
  },
  {
   "cell_type": "code",
   "execution_count": 36,
   "id": "a4cfb692",
   "metadata": {},
   "outputs": [],
   "source": [
    "X = encode(nucleotides, sparse, alphabet)"
   ]
  },
  {
   "cell_type": "code",
   "execution_count": 46,
   "id": "065ccb8b",
   "metadata": {},
   "outputs": [],
   "source": [
    "# PCA\n",
    "pca = PCA(n_components=2)\n",
    "pca.fit(X)\n",
    "X_pca = pca.transform(X)"
   ]
  },
  {
   "cell_type": "code",
   "execution_count": 47,
   "id": "47998677",
   "metadata": {},
   "outputs": [
    {
     "data": {
      "text/plain": [
       "Text(0, 0.5, 'Second principal component')"
      ]
     },
     "execution_count": 47,
     "metadata": {},
     "output_type": "execute_result"
    },
    {
     "data": {
      "image/png": "[encoded data removed]",
      "text/plain": [
       "<Figure size 576x576 with 1 Axes>"
      ]
     },
     "metadata": {
      "needs_background": "light"
     },
     "output_type": "display_data"
    }
   ],
   "source": [
    "# plot first vs. second principal component, colored by class\n",
    "plt.figure(figsize=(8, 8))\n",
    "mglearn.discrete_scatter(X_pca[:, 0], X_pca[:, 1], label)\n",
    "plt.legend([\"True\", \"A\", \"G\", \"C\", \"T\"], loc=\"best\")\n",
    "plt.gca().set_aspect(\"equal\")\n",
    "plt.xlabel(\"First principal component\")\n",
    "plt.ylabel(\"Second principal component\")"
   ]
  },
  {
   "cell_type": "code",
   "execution_count": 27,
   "id": "f5814952",
   "metadata": {},
   "outputs": [
    {
     "data": {
      "text/plain": [
       "Text(0, 0.5, 'Second principal component')"
      ]
     },
     "execution_count": 27,
     "metadata": {},
     "output_type": "execute_result"
    },
    {
     "data": {
      "image/png": "[encoded data removed]",
      "text/plain": [
       "<Figure size 576x576 with 1 Axes>"
      ]
     },
     "metadata": {
      "needs_background": "light"
     },
     "output_type": "display_data"
    }
   ],
   "source": [
    "test = []\n",
    "random1 = \"GGGGGGGGGGGGGGGGGGGGGGGGGGGGGGG\"\n",
    "random2 = \"AAAAAAAAAAAAAAAAAAAAAAAAAAAAAAA\"\n",
    "random3 = \"CCCCCCCCCCCCCCCCCCCCCCCCCCCCCCC\"\n",
    "random4 = \"TTTTTTTTTTTTTTTTTTTTTTTTTTTTTTT\"\n",
    "test = np.append(test, random1)\n",
    "test = np.append(test, random2)\n",
    "test = np.append(test, random3)\n",
    "test = np.append(test, random4)\n",
    "X = encode(test, sparse, alphabet)\n",
    "label=[]\n",
    "label.append(1)\n",
    "label.append(2)\n",
    "label.append(3)\n",
    "label.append(4)\n",
    "# PCA\n",
    "pca = PCA(n_components=2)\n",
    "pca.fit(X)\n",
    "X_pca = pca.transform(X)\n",
    "# plot first vs. second principal component, colored by class\n",
    "plt.figure(figsize=(8, 8))\n",
    "mglearn.discrete_scatter(X_pca[:, 0], X_pca[:, 1], label)\n",
    "plt.legend([\"G\", \"A\", \"C\", \"T\"], loc=\"best\")\n",
    "plt.gca().set_aspect(\"equal\")\n",
    "plt.xlabel(\"First principal component\")\n",
    "plt.ylabel(\"Second principal component\")"
   ]
  },
  {
   "cell_type": "code",
   "execution_count": null,
   "id": "af8c699e",
   "metadata": {},
   "outputs": [],
   "source": []
  }
 ],
 "metadata": {
  "kernelspec": {
   "display_name": "Python 3 (ipykernel)",
   "language": "python",
   "name": "python3"
  },
  "language_info": {
   "codemirror_mode": {
    "name": "ipython",
    "version": 3
   },
   "file_extension": ".py",
   "mimetype": "text/x-python",
   "name": "python",
   "nbconvert_exporter": "python",
   "pygments_lexer": "ipython3",
   "version": "3.8.13"
  }
 },
 "nbformat": 4,
 "nbformat_minor": 5
}
