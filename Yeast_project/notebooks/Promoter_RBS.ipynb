{
 "cells": [
  {
   "cell_type": "code",
   "execution_count": 1,
   "id": "be448d79",
   "metadata": {},
   "outputs": [],
   "source": [
    "import pandas as pd\n",
    "import numpy as np\n",
    "import matplotlib.pyplot as plt \n",
    "import mglearn\n",
    "from sklearn.decomposition import PCA\n",
    "from itertools import repeat, product\n",
    "%matplotlib inline\n"
   ]
  },
  {
   "cell_type": "code",
   "execution_count": 2,
   "id": "2ec35287",
   "metadata": {},
   "outputs": [
    {
     "data": {
      "text/plain": [
       "5542576128"
      ]
     },
     "execution_count": 2,
     "metadata": {},
     "output_type": "execute_result"
    }
   ],
   "source": [
    "para = 0\n",
    "for k in range(6, 12):\n",
    "    n = 4**k * (1000 - k + 1) + 4**k\n",
    "    para += n\n",
    "para"
   ]
  },
  {
   "cell_type": "code",
   "execution_count": 3,
   "id": "745c89fb",
   "metadata": {},
   "outputs": [],
   "source": [
    "def initialize_diag_matrix(k):\n",
    "    k = 4**k\n",
    "    v = [1] * k\n",
    "    D = np.diag(v)\n",
    "    return D\n",
    "    "
   ]
  },
  {
   "cell_type": "code",
   "execution_count": 4,
   "id": "da0fe73b",
   "metadata": {},
   "outputs": [],
   "source": [
    "class kmer_featurization:\n",
    "\n",
    "  def __init__(self, k):\n",
    "    \"\"\"\n",
    "    seqs: a list of DNA sequences\n",
    "    k: the \"k\" in k-mer\n",
    "    \"\"\"\n",
    "    self.k = k\n",
    "    self.letters = ['A', 'T', 'C', 'G']\n",
    "    self.multiplyBy = 4 ** np.arange(k-1, -1, -1) # the multiplying number for each digit position in the k-number system\n",
    "    self.n = 4**k # number of possible k-mers\n",
    "\n",
    "  def obtain_kmer_feature_for_a_list_of_sequences(self, seqs, write_number_of_occurrences=False):\n",
    "    \"\"\"\n",
    "    Given a list of m DNA sequences, return a 2-d array with shape (m, 4**k) for the 1-hot representation of the kmer features.\n",
    "\n",
    "    Args:\n",
    "      write_number_of_occurrences:\n",
    "        a boolean. If False, then in the 1-hot representation, the percentage of the occurrence of a kmer will be recorded; otherwise the number of occurrences will be recorded. Default False.    \n",
    "    \"\"\"\n",
    "    kmer_features = []\n",
    "    for seq in seqs:\n",
    "      this_kmer_feature = self.obtain_kmer_feature_for_one_sequence(seq.upper(), write_number_of_occurrences=write_number_of_occurrences)\n",
    "      kmer_features.append(this_kmer_feature)\n",
    "\n",
    "    kmer_features = np.array(kmer_features)\n",
    "\n",
    "    return kmer_features\n",
    "\n",
    "  def obtain_kmer_feature_for_one_sequence(self, seq, write_number_of_occurrences=False):\n",
    "    \"\"\"\n",
    "    Given a DNA sequence, return the 1-hot representation of its kmer feature.\n",
    "\n",
    "    Args:\n",
    "      seq: \n",
    "        a string, a DNA sequence\n",
    "      write_number_of_occurrences:\n",
    "        a boolean. If False, then in the 1-hot representation, the percentage of the occurrence of a kmer will be recorded; otherwise the number of occurrences will be recorded. Default False.\n",
    "    \"\"\"\n",
    "    number_of_kmers = len(seq) - self.k + 1\n",
    "\n",
    "    kmer_feature = np.zeros(self.n)\n",
    "\n",
    "    for i in range(number_of_kmers):\n",
    "      this_kmer = seq[i:(i+self.k)]\n",
    "      this_numbering = self.kmer_numbering_for_one_kmer(this_kmer)\n",
    "      kmer_feature[this_numbering] += 1\n",
    "\n",
    "    if not write_number_of_occurrences:\n",
    "      kmer_feature = kmer_feature / number_of_kmers\n",
    "\n",
    "    return kmer_feature\n",
    "\n",
    "  def kmer_numbering_for_one_kmer(self, kmer):\n",
    "    \"\"\"\n",
    "    Given a k-mer, return its numbering (the 0-based position in 1-hot representation)\n",
    "    \"\"\"\n",
    "    digits = []\n",
    "    for letter in kmer:\n",
    "      digits.append(self.letters.index(letter))\n",
    "\n",
    "    digits = np.array(digits)\n",
    "\n",
    "    numbering = (digits * self.multiplyBy).sum()\n",
    "\n",
    "    return numbering\n"
   ]
  },
  {
   "cell_type": "code",
   "execution_count": 5,
   "id": "c781f456",
   "metadata": {},
   "outputs": [],
   "source": [
    "nucleotides = np.loadtxt('../R_outputs/promoters.csv', dtype=str)\n",
    "# random1 = \"A\" * 1000\n",
    "# random2 = \"G\" * 1000\n",
    "# random3 = \"C\" * 1000\n",
    "# random4 = \"T\" * 1000\n",
    "# nucleotides = np.append(nucleotides, random1)\n",
    "# nucleotides = np.append(nucleotides, random2)\n",
    "# nucleotides = np.append(nucleotides, random3)\n",
    "# nucleotides = np.append(nucleotides, random4)"
   ]
  },
  {
   "cell_type": "code",
   "execution_count": 6,
   "id": "3875a399",
   "metadata": {},
   "outputs": [],
   "source": [
    "def get_all_pos_kmers(k):\n",
    "    letters = ['A', 'T', 'C', 'G']\n",
    "    alphabet = []\n",
    "    combinations = product(letters, repeat=k)\n",
    "    for j in combinations:\n",
    "        alphabet.append(''.join(j))\n",
    "    return alphabet\n"
   ]
  },
  {
   "cell_type": "code",
   "execution_count": 7,
   "id": "95d228f8",
   "metadata": {},
   "outputs": [],
   "source": [
    "def encode(nucleotides):\n",
    "\n",
    "    encoded_nucleotides = []\n",
    "\n",
    "\n",
    "    for nucleotide in nucleotides:\n",
    "\n",
    "        encoded_nucleotide = []\n",
    "\n",
    "        for k in range(1, 6):\n",
    "            \n",
    "            # create a list of possbile kmers\n",
    "            alphabet = get_all_pos_kmers(k)\n",
    "            \n",
    "            # create a sparse matrix\n",
    "            \n",
    "            _sparse = initialize_diag_matrix(k)\n",
    "    \n",
    "            sparse = {}\n",
    "\n",
    "            for i, kmer_1 in enumerate(alphabet):\n",
    "\n",
    "                sparse[kmer_1] = {}\n",
    "\n",
    "                for j, kmer_2 in enumerate(alphabet):\n",
    "\n",
    "                    sparse[kmer_1][kmer_2] = _sparse[i, j]\n",
    "            # kmer position\n",
    "            \n",
    "            for number_of_kmers in range(len(nucleotide) - k + 1):\n",
    "                \n",
    "                nucleotide_kmer = nucleotide[number_of_kmers:(number_of_kmers+k)]\n",
    "                \n",
    "                \n",
    "                for kmer in alphabet:\n",
    "                    \n",
    "                    encoded_nucleotide.append(sparse[nucleotide_kmer][kmer])\n",
    "             \n",
    "            \n",
    "            # kmer count\n",
    "            obj = kmer_featurization(k) \n",
    "            \n",
    "            kmer_feature = obj.obtain_kmer_feature_for_one_sequence(nucleotide, write_number_of_occurrences=True)\n",
    "            \n",
    "            encoded_nucleotide = list(kmer_feature) + encoded_nucleotide\n",
    "            \n",
    "            \n",
    "        encoded_nucleotides.append(encoded_nucleotide)\n",
    "\n",
    "    return np.array(encoded_nucleotides)"
   ]
  },
  {
   "cell_type": "code",
   "execution_count": 9,
   "id": "a4cfb692",
   "metadata": {},
   "outputs": [],
   "source": [
    "X = encode(nucleotides)"
   ]
  },
  {
   "cell_type": "code",
   "execution_count": 10,
   "id": "9c11cfa4",
   "metadata": {},
   "outputs": [
    {
     "data": {
      "text/plain": [
       "(77, 1360356)"
      ]
     },
     "execution_count": 10,
     "metadata": {},
     "output_type": "execute_result"
    }
   ],
   "source": [
    "X.shape"
   ]
  },
  {
   "cell_type": "code",
   "execution_count": 11,
   "id": "065ccb8b",
   "metadata": {},
   "outputs": [],
   "source": [
    "# PCA\n",
    "pca = PCA(n_components=2)\n",
    "pca.fit(X)\n",
    "X_pca = pca.transform(X)"
   ]
  },
  {
   "cell_type": "code",
   "execution_count": 16,
   "id": "e9305ac1",
   "metadata": {},
   "outputs": [],
   "source": [
    "# Label datapoints\n",
    "label=[]\n",
    "label.append(0)\n",
    "label.append(1)\n",
    "label.extend(repeat(2,75))\n",
    "# label.append(1)\n",
    "# label.append(2)\n",
    "# label.append(3)\n",
    "# label.append(4)"
   ]
  },
  {
   "cell_type": "code",
   "execution_count": 22,
   "id": "47998677",
   "metadata": {},
   "outputs": [
    {
     "data": {
      "image/png": "[encoded data removed]",
      "text/plain": [
       "<Figure size 576x576 with 1 Axes>"
      ]
     },
     "metadata": {
      "needs_background": "light"
     },
     "output_type": "display_data"
    }
   ],
   "source": [
    "# plot first vs. second principal component, colored by class\n",
    "plt.figure(figsize=(8, 8))\n",
    "mglearn.discrete_scatter(X_pca[:, 0], X_pca[:, 1], label)\n",
    "plt.legend([\"YOR388C\", \"YPL276W\", \"Promoters\"], loc=\"best\")\n",
    "plt.gca().set_aspect(\"equal\")\n",
    "plt.xlabel(\"First principal component\")\n",
    "plt.ylabel(\"Second principal component\")\n",
    "plt.savefig('./PCA.jpg', bbox_inches='tight', dpi=600)"
   ]
  },
  {
   "cell_type": "code",
   "execution_count": null,
   "id": "a2548282",
   "metadata": {},
   "outputs": [],
   "source": []
  }
 ],
 "metadata": {
  "kernelspec": {
   "display_name": "Python 3 (ipykernel)",
   "language": "python",
   "name": "python3"
  },
  "language_info": {
   "codemirror_mode": {
    "name": "ipython",
    "version": 3
   },
   "file_extension": ".py",
   "mimetype": "text/x-python",
   "name": "python",
   "nbconvert_exporter": "python",
   "pygments_lexer": "ipython3",
   "version": "3.8.13"
  }
 },
 "nbformat": 4,
 "nbformat_minor": 5
}
